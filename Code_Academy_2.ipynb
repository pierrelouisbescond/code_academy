{
  "nbformat": 4,
  "nbformat_minor": 0,
  "metadata": {
    "colab": {
      "name": "Code Academy #2.ipynb",
      "provenance": [],
      "collapsed_sections": [],
      "authorship_tag": "ABX9TyOrSYLzeHpicYSkoubArq1H",
      "include_colab_link": true
    },
    "kernelspec": {
      "name": "python3",
      "display_name": "Python 3"
    },
    "language_info": {
      "name": "python"
    }
  },
  "cells": [
    {
      "cell_type": "markdown",
      "metadata": {
        "id": "view-in-github",
        "colab_type": "text"
      },
      "source": [
        "<a href=\"https://colab.research.google.com/github/pierrelouisbescond/code_academy/blob/main/Code_Academy_2.ipynb\" target=\"_parent\"><img src=\"https://colab.research.google.com/assets/colab-badge.svg\" alt=\"Open In Colab\"/></a>"
      ]
    },
    {
      "cell_type": "markdown",
      "metadata": {
        "id": "oeuSMlpEPsZo"
      },
      "source": [
        "## Bienvenue à la **Code Academy** !\n",
        "\n",
        "### Les listes et les boucles\n",
        "\n",
        "Un bon programmeur est un programmeur fainéant ! Cela veut dire qu'il va essayer d'en faire le moyen possible et de laisser le programme travailler pour lui !\n",
        "\n",
        "Avant d'utiliser des boucles, nous allons commencer par découvrir les **listes**. Elles ressemblent à des variables mais, au lieu de stocker une seule valeur, elles vont stocker plusieurs.\n",
        "\n",
        "Par exemple, nous pouvons créer une liste d'élèves :\n",
        "\n",
        "```\n",
        "liste_eleves = [\"Stan\", \"Firas\", \"Eloi\", \"Sacha\", \"Mathis\"]\n",
        "print(liste_eleves)\n",
        "```"
      ]
    },
    {
      "cell_type": "code",
      "metadata": {
        "id": "Yw46dRR-TFEt"
      },
      "source": [
        "# Ecris ta propre liste en dessous de cette ligne :\n",
        "\n"
      ],
      "execution_count": null,
      "outputs": []
    },
    {
      "cell_type": "markdown",
      "metadata": {
        "id": "2DOLZUnBXwJO"
      },
      "source": [
        "On peut également demander à Python de nous renvoyer uniquement certains éléments en utilisant des [ ] pour désigner la ou les position(s) que l'on souhaite avoir dans la liste. En utilisant \":\", nous pouvons désigner une plage de valeurs.\n",
        "\n",
        "Il faut garder en tête deux choses importantes :\n",
        "\n",
        "\n",
        "1.   La 1ère position dans la liste est \"0\" et pas \"1\" !\n",
        "2.   Nous pouvons utiliser une plage (ex. liste[0:3]) mais l'élement correspondant à la borne de fin \"3\" ne sera pas inclu dans la plage.\n",
        "\n",
        "Essayons !\n",
        "```\n",
        "print(liste_eleves[0])\n",
        "print(liste_eleves[2])\n",
        "print(liste_eleves[2:4])\n",
        "```"
      ]
    },
    {
      "cell_type": "code",
      "metadata": {
        "id": "cRvNwt4aXyMR"
      },
      "source": [
        "# Ecris ton code en dessous de cette ligne :\n",
        "\n"
      ],
      "execution_count": null,
      "outputs": []
    },
    {
      "cell_type": "markdown",
      "metadata": {
        "id": "S9FSB9WfQwKc"
      },
      "source": [
        "Maintenant, essaie d'afficher Firas en trouvant la bonne position dans la liste d'élèves."
      ]
    },
    {
      "cell_type": "code",
      "metadata": {
        "id": "irNmdsu1R5OI"
      },
      "source": [
        "# Ecris ton code en dessous de cette ligne :\n",
        "\n"
      ],
      "execution_count": null,
      "outputs": []
    },
    {
      "cell_type": "markdown",
      "metadata": {
        "id": "o4E73GruR5j7"
      },
      "source": [
        "On peut même demander à Python d'aller chercher la dernière valeur de la liste.\n",
        "\n",
        "```\n",
        "print(liste_eleves[-1])\n",
        "```\n"
      ]
    },
    {
      "cell_type": "code",
      "metadata": {
        "id": "fjnWx5dXSpzt"
      },
      "source": [
        "# Essaie en dessous de cette ligne :\n",
        "\n"
      ],
      "execution_count": null,
      "outputs": []
    },
    {
      "cell_type": "markdown",
      "metadata": {
        "id": "OJU-imDTch8K"
      },
      "source": [
        "### Utiliser des boucles\n",
        "\n",
        "Python permet aussi de créer des boucles pour faire plusieurs fois la même chose. Chaque \"tour\" de la boucle est appelé une **itération**.\n",
        "\n",
        "Dans l'exemple ci-dessous, nous allons demander à Python d'afficher le nombre \"i\" qui va varier de 0 à 9 grâce à la commande \"range\"\n",
        "\n",
        "```\n",
        "for i in range(10):\n",
        "  print(i)\n",
        "```\n",
        "/!\\ Toutes les actions dans la boucle doivent être décalées d'une tabulation vers le droite (que j'ai indiqué par 1 flèche (▶) ci-dessous : \n",
        "\n",
        "```\n",
        "for i in range(10):\n",
        "▶▶print(i)\n",
        "```\n",
        "\n",
        "On obtient ce décalage en cliquant sur la touche Tabulation:\n",
        "\n",
        "![tab](http://adn56.net/blog/wp-content/uploads/2017/01/tab.png)"
      ]
    },
    {
      "cell_type": "code",
      "metadata": {
        "id": "qCWZKEmjaTrG"
      },
      "source": [
        "# Essaie en dessous de cette ligne :\n",
        "\n"
      ],
      "execution_count": null,
      "outputs": []
    },
    {
      "cell_type": "markdown",
      "metadata": {
        "id": "hZCGA2NEbWqX"
      },
      "source": [
        "Maintenant, essaie de créer une boucle qui va afficher une variable \"j\" qui va aller de 0 à 5"
      ]
    },
    {
      "cell_type": "code",
      "source": [
        ""
      ],
      "metadata": {
        "id": "oByO-xMPa55y"
      },
      "execution_count": null,
      "outputs": []
    },
    {
      "cell_type": "code",
      "metadata": {
        "id": "8jcXNW-aYXXj"
      },
      "source": [
        "# Essaie en dessous de cette ligne :\n",
        "\n"
      ],
      "execution_count": null,
      "outputs": []
    },
    {
      "cell_type": "markdown",
      "metadata": {
        "id": "yTWM9FwhYX_x"
      },
      "source": [
        "Encore plus difficile : essaie de créer une boucle qui va afficher \"i\" multiplié par 2 à chaque itération, 5 fois de suite. Pour rappel, on peut multiplier une variable en faisant \"variable * 2\".\n",
        "\n",
        "```\n",
        "Le résultat doit ressembler à ça :\n",
        "0\n",
        "2\n",
        "4\n",
        "6\n",
        "8\n",
        "```\n",
        "\n"
      ]
    },
    {
      "cell_type": "code",
      "metadata": {
        "id": "KOkdx_dRZAex"
      },
      "source": [
        "# Essaie en dessous de cette ligne :\n",
        "\n"
      ],
      "execution_count": null,
      "outputs": []
    },
    {
      "cell_type": "markdown",
      "metadata": {
        "id": "uZKUAq7FWkR_"
      },
      "source": [
        "### Combinaison de listes et de boucles\n",
        "\n",
        "On peut même lancer une boucle où l'on va demander à Python de faire une opération sur chaque élément de la liste :\n",
        "\n",
        "```\n",
        "liste_eleves = [\"Stan\", \"Firas\", \"Eloi\", \"Sacha\", \"Mathis\"]\n",
        "\n",
        "for eleve in liste_eleves:\n",
        "  print(eleve, \"est en classe de 6ème.\")\n",
        "```\n",
        "\n",
        "**for eleve in liste_eleves:** veut dire \"Pour chaque élève de la liste des élèves...\""
      ]
    },
    {
      "cell_type": "code",
      "metadata": {
        "id": "qtbWwcEAbEo5"
      },
      "source": [
        "# Essaie en dessous de cette ligne :\n",
        "\n"
      ],
      "execution_count": null,
      "outputs": []
    },
    {
      "cell_type": "markdown",
      "metadata": {
        "id": "wj2VfLv-aFW0"
      },
      "source": [
        "\n",
        "\n",
        "Maintenant, nous pouvons même aller plus loin ! Nous pouvons combiner une liste d'élèves et une liste de notes pour afficher les résultats de chaque élève :\n",
        "\n",
        "\n",
        "\n",
        "```\n",
        "liste_eleves = [\"Stan\", \"Firas\", \"Eloi\", \"Sacha\", \"Mathis\"]\n",
        "liste_notes = [17, 16, 15, 18, 17]\n",
        "\n",
        "for eleve, note in zip(liste_eleves, liste_notes):\n",
        "  print (eleve, \"a eu\", note, \"a son DS de Maths.\")\n",
        "```\n",
        "(la fonction \"zip\" va énumérer les éléments de la liste en même temps : la position \"0\" sur les 2 listes, la position \"1\", etc.)"
      ]
    },
    {
      "cell_type": "code",
      "metadata": {
        "id": "sjaDZeyfbBnw"
      },
      "source": [
        "# Essaie en dessous de cette ligne avec 1 liste d'élèves et de notes différentes :\n",
        "\n"
      ],
      "execution_count": null,
      "outputs": []
    },
    {
      "cell_type": "markdown",
      "metadata": {
        "id": "YtYIimFlcxYD"
      },
      "source": [
        "### Exercice final 🏆\n",
        "\n",
        "Pour ton exerice final, tu vas devoir créer un code où tu vas utiliser 3 listes :\n",
        "\n",
        "\n",
        "*   Une liste de 5 élèves\n",
        "*   Une liste de notes au DS de Maths\n",
        "*   Une liste de notes au DNS de Français\n",
        "\n",
        "Et afficher une phase pour chaque élève comme l'exemple ci-dessous :\n",
        "\n",
        "```\n",
        "Mathis a eu 15 à son DS de Maths et 16 à son DNS de Français\n",
        "```\n",
        "\n",
        "Bon courage !"
      ]
    },
    {
      "cell_type": "code",
      "metadata": {
        "id": "ZXLrTv9IbyX4"
      },
      "source": [
        "# Essaie en dessous de cette ligne avec 1 liste d'élèves et de notes différentes :\n",
        "\n"
      ],
      "execution_count": null,
      "outputs": []
    },
    {
      "cell_type": "markdown",
      "metadata": {
        "id": "geKI44KoWVvs"
      },
      "source": [
        "Défi \"expert\" : tu crées le même code mais tu demandes d'abord à l'utilisateur combien de points il veut ajouter au DS de Maths et, pour tous les élèves, cela affiche la note du DS + le nombre de points donné par l'utilisateur."
      ]
    },
    {
      "cell_type": "code",
      "metadata": {
        "id": "gI3q69w6WwSX"
      },
      "source": [
        "# Essaie en dessous de cette ligne avec 1 liste d'élèves et de notes différentes :\n",
        "\n"
      ],
      "execution_count": null,
      "outputs": []
    },
    {
      "cell_type": "markdown",
      "metadata": {
        "id": "PAS1ksWjYUiy"
      },
      "source": [
        "Si tu es arrivé jusque là, ta de leçon est finie !!! 👋👋👋\n",
        "\n",
        "(Et si tu n'as pas réussi l'exercice final ou le défi, la réponse est un peu plus bas !)\n",
        "<br>\n",
        "<br>\n",
        "<br>\n",
        "<br>\n",
        "<br>\n",
        "<br>\n",
        "<br>\n",
        "<br>\n",
        "<br>\n",
        "<br>\n",
        "<br>\n",
        "<br>\n",
        "<br>\n",
        "<br>\n",
        "<br>\n",
        "<br>\n",
        "<br>\n",
        "<br>\n",
        "<br>\n",
        "<br>\n",
        "<br>\n",
        "<br>\n",
        "<br>\n",
        "<br>\n",
        "<br>\n",
        "<br>\n",
        "<br>\n",
        "<br>\n",
        "<br>\n",
        "<br>\n",
        "<br>\n",
        "<br>\n",
        "<br>\n",
        "<br>"
      ]
    },
    {
      "cell_type": "markdown",
      "metadata": {
        "id": "hT8QRRcmgH-L"
      },
      "source": [
        "**Exercice final :**\n",
        "```\n",
        "liste_eleves = [\"Mathis\",\"Nico\",\"Firas\",\"Stan\",\"Eloi\"]\n",
        "liste_notes_MATHS = [15, 16, 17, 15, 12]\n",
        "liste_notes_FR = [16, 11, 10, 12, 13]\n",
        "\n",
        "for eleve, note_MATHS, note_FR in zip(liste_eleves, liste_notes_MATHS, liste_notes_FR):\n",
        " print (eleve, \"a eu\", note_MATHS, \"a son DS de Maths et a eu\", note_FR, \"à son DNS de Français.\")\n",
        "```\n",
        "***\n",
        "**Défi Expert :**\n",
        "```\n",
        "bonus = int(input(\"Quelle est le bonus ?\"))\n",
        "\n",
        "liste_eleves = [\"Mathis\",\"Nico\",\"Firas\",\"Stan\",\"Eloi\"]\n",
        "liste_notes_MATHS = [15, 16, 17, 15, 12]\n",
        "liste_notes_FR = [16, 11, 10, 12, 13]\n",
        "\n",
        "for eleve, note_MATHS, note_FR in zip(liste_eleves, liste_notes_MATHS, liste_notes_FR):\n",
        " print (eleve, \"a eu\", note_MATHS + bonus, \"a son DS de Maths et a eu\", note_FR, \"à son DNS de Français.\")\n",
        " ```"
      ]
    }
  ]
}