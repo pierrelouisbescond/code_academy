{
  "nbformat": 4,
  "nbformat_minor": 0,
  "metadata": {
    "colab": {
      "name": "Code Academy #1.ipynb",
      "provenance": [],
      "collapsed_sections": [],
      "authorship_tag": "ABX9TyOK5Ibzw41vwzdZMbgeBesT",
      "include_colab_link": true
    },
    "kernelspec": {
      "name": "python3",
      "display_name": "Python 3"
    },
    "language_info": {
      "name": "python"
    }
  },
  "cells": [
    {
      "cell_type": "markdown",
      "metadata": {
        "id": "view-in-github",
        "colab_type": "text"
      },
      "source": [
        "<a href=\"https://colab.research.google.com/github/pierrelouisbescond/code_academy/blob/main/Code_Academy_1.ipynb\" target=\"_parent\"><img src=\"https://colab.research.google.com/assets/colab-badge.svg\" alt=\"Open In Colab\"/></a>"
      ]
    },
    {
      "cell_type": "markdown",
      "metadata": {
        "id": "oeuSMlpEPsZo"
      },
      "source": [
        "## Bienvenue à la **Code Academy** !\n",
        "\n",
        "La première étape va être de coder ton nom en une seule ligne :\n",
        "\n",
        "Nous allons juste afficher : \"**Mon prénom est XXXXXX**\" en utilisant la fonction \"print\" (qui veut dire *imprimer* en Anglais) et en inscrivant le code suivant dans la cellule ci-dessous :\n",
        "\n",
        "```\n",
        "print(\"Mon prénom est Pierre-Louis\")\n",
        "```"
      ]
    },
    {
      "cell_type": "code",
      "metadata": {
        "id": "Yw46dRR-TFEt"
      },
      "source": [
        "# Ecris ton code en dessous de cette ligne :\n"
      ],
      "execution_count": null,
      "outputs": []
    },
    {
      "cell_type": "markdown",
      "metadata": {
        "id": "SsCnKU4dcFjS"
      },
      "source": [
        "### Les variables\n",
        "\n",
        "Maintenant, nous allons créer une variable.\n",
        "C'est une information que le programme va pouvoir ré-utiliser pour nous éviter de devoir la saisir plusieurs fois. Tu peux remplacer \"Pierre-Louis\" par ton prénom 😉\n",
        "\n",
        "```\n",
        "mon_prenom = \"Pierre-Louis\"\n",
        "print(\"Mon prénom est \", mon_prenom)\n",
        "print(mon_prenom, \"est un joli prénom!\")\n",
        "```"
      ]
    },
    {
      "cell_type": "code",
      "metadata": {
        "id": "uZKUAq7FWkR_"
      },
      "source": [
        "# Ecris ton code en dessous de cette ligne :\n"
      ],
      "execution_count": null,
      "outputs": []
    },
    {
      "cell_type": "markdown",
      "metadata": {
        "id": "XVi134fMVHTS"
      },
      "source": [
        "  Les variables peuvent être du texte (comme un prénom) mais aussi des nombres !\n",
        "  Et l'on peut réaliser des opérations mathématiques comme avec une calculatrice.\n",
        "\n",
        "```\n",
        "nombre_1 = 8\n",
        "nombre_2 = 7\n",
        "print(\"Addition :\", nombre_1 + nombre_2)\n",
        "print(\"Multiplication :\", nombre_1 * nombre_2)\n",
        "```\n",
        "\n",
        "\n"
      ]
    },
    {
      "cell_type": "code",
      "metadata": {
        "id": "DWFLrXvEWQHf"
      },
      "source": [
        "# Ecris ton code en dessous de cette ligne :\n"
      ],
      "execution_count": null,
      "outputs": []
    },
    {
      "cell_type": "markdown",
      "metadata": {
        "id": "U-hK7MOfcM9J"
      },
      "source": [
        "### La fonction \"input\" pour poser des questions\n",
        "\n",
        "On peut également utiliser la fonction \"input\" pour poser une question à l'utilisateur :\n",
        "\n",
        "```\n",
        "prenom_saisi = input(\"Quel est ton prénom ?\")\n",
        "print(\"Salut \", prenom_saisi)\n",
        "```"
      ]
    },
    {
      "cell_type": "code",
      "metadata": {
        "id": "v2v5Qaa_WwDE"
      },
      "source": [
        "# Ecris ton code en dessous de cette ligne :\n"
      ],
      "execution_count": null,
      "outputs": []
    },
    {
      "cell_type": "markdown",
      "metadata": {
        "id": "O5MRhmy-cSAo"
      },
      "source": [
        "### Exercice final 🏆\n",
        "\n",
        "Maintenant, à toi d'imaginer le code où tu vas demander le prénom et l'age de l'utilisateur et afficher \"Waouh Prénom, tu as XX ans !\""
      ]
    },
    {
      "cell_type": "code",
      "metadata": {
        "id": "Meehcpb_Xwb7"
      },
      "source": [
        "# Ecris ton code en dessous de cette ligne :\n"
      ],
      "execution_count": null,
      "outputs": []
    },
    {
      "cell_type": "markdown",
      "metadata": {
        "id": "PAS1ksWjYUiy"
      },
      "source": [
        "Si tu es arrivé jusque là, ta première leçon est finie !!! 👋👋👋\n",
        "\n",
        "(Et si tu n'as pas réussi l'exercice final, la réponse est un peu plus bas !)\n",
        "\n",
        "<br>\n",
        "<br>\n",
        "<br>\n",
        "<br>\n",
        "<br>\n",
        "<br>\n",
        "<br>\n",
        "<br>\n",
        "<br>\n",
        "<br>\n",
        "<br>\n",
        "<br>\n",
        "<br>\n",
        "<br>\n",
        "<br>\n",
        "<br>\n",
        "<br>\n",
        "<br>\n",
        "<br>\n",
        "<br>\n",
        "<br>\n",
        "<br>\n",
        "<br>\n",
        "<br>\n",
        "<br>\n",
        "<br>\n",
        "<br>\n",
        "<br>\n",
        "<br>\n",
        "<br>\n",
        "<br>\n",
        "<br>\n",
        "<br>\n",
        "<br>\n",
        "\n",
        "```\n",
        "prenom_saisi = input(\"Quel est ton prénom ?\")\n",
        "age_saisi = input(\"Quel est ton age ?\")\n",
        "print(\"Waouh\", prenom_saisi, \"tu as\", age_saisi, \"ans!\")\n",
        "```"
      ]
    }
  ]
}