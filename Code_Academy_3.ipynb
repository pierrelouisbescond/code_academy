{
  "nbformat": 4,
  "nbformat_minor": 0,
  "metadata": {
    "colab": {
      "name": "Code Academy #3.ipynb",
      "provenance": [],
      "collapsed_sections": [],
      "authorship_tag": "ABX9TyMUCAyNSjkSqFM7Ctz5Q5tY",
      "include_colab_link": true
    },
    "kernelspec": {
      "name": "python3",
      "display_name": "Python 3"
    },
    "language_info": {
      "name": "python"
    }
  },
  "cells": [
    {
      "cell_type": "markdown",
      "metadata": {
        "id": "view-in-github",
        "colab_type": "text"
      },
      "source": [
        "<a href=\"https://colab.research.google.com/github/pierrelouisbescond/code_academy/blob/main/Code_Academy_3.ipynb\" target=\"_parent\"><img src=\"https://colab.research.google.com/assets/colab-badge.svg\" alt=\"Open In Colab\"/></a>"
      ]
    },
    {
      "cell_type": "markdown",
      "metadata": {
        "id": "oeuSMlpEPsZo"
      },
      "source": [
        "## Bienvenue à la **Code Academy** !\n",
        "\n",
        "### Les fonctions\n",
        "\n",
        "Tu le sais déjà, un bon programmeur est un programmeur fainéant !\n",
        "\n",
        "Cette fois-ci, nous allons découvrir les fonctions. C'est un outil très puissant qui te permet de donner une ou plusieurs variables à un bloc de code qui va exécuter des actions prédéfinies.\n",
        "\n",
        "Par exemple, imaginons que nous avons les notes en SVT de plusieurs élèves et que nous voulons calculer leur moyenne.\n",
        "\n",
        "La première solution serait de refaire le calcul pour chaque élève :\n",
        "\n",
        "```\n",
        "notes_SVT_Mathis = [14, 17, 12, 13, 16]\n",
        "\n",
        "moyenne_SVT_Mathis = (notes_SVT_Mathis[0] + notes_SVT_Mathis[1] + notes_SVT_Mathis[2] + notes_SVT_Mathis[3]+ notes_SVT_Mathis[4]) / 5\n",
        "print(\"Mathis :\", moyenne_SVT_Mathis)\n",
        "\n",
        "notes_SVT_Stan = [15, 15, 15, 11, 15]\n",
        "\n",
        "moyenne_SVT_Stan = (notes_SVT_Stan[0] + notes_SVT_Stan[1] + notes_SVT_Stan[2] + notes_SVT_Stan[3] + notes_SVT_Stan[4]) / 5\n",
        "print(\"Stan :\", moyenne_SVT_Stan)\n",
        "```\n",
        "\n",
        "Essaie de refaire ce code sans copier-coller et sans te tromper !"
      ]
    },
    {
      "cell_type": "code",
      "metadata": {
        "id": "Yw46dRR-TFEt"
      },
      "source": [
        "# Ecris ton code en dessous de cette ligne :\n"
      ],
      "execution_count": null,
      "outputs": []
    },
    {
      "cell_type": "markdown",
      "metadata": {
        "id": "2DOLZUnBXwJO"
      },
      "source": [
        "C'est là que les fonctions entrent en jeu, nous allons créer une série d'instructions qui fera toujours la même chose et à qui nous donnerons des données d'entrée différentes.\n",
        "\n",
        "Une fonction se crée en commençant par ***def*** :\n",
        "\n",
        "```\n",
        "def calcul_moyenne(prenom_eleve, liste_de_notes):\n",
        "  moyenne_eleve = (liste_de_notes[0] + liste_de_notes[1] + liste_de_notes[2] + liste_de_notes[3] + liste_de_notes[4]) / 5\n",
        "  print (prenom_eleve, \":\", moyenne_eleve)\n",
        "```\n",
        "\n",
        "Pour afficher le résultat, la fonction va utiliser 2 variables en entrée \"**prenom_eleve**\" (pour savoir quel est le prénom qu'elle doit afficher) et \"**liste_de_notes**\" (les notes de l'élève).\n",
        "\n",
        "Ensuite, elle va faire la somme de toutes les notes et la diviser par 5 pour calculer la moyenne.\n",
        "\n",
        "Il ne reste plus qu'à afficher le résultat avec la fonction \"**print**\".\n",
        "\n",
        "Pour exécuter la fonction, il faut donner son nom et les variables dont elle a besoin :\n",
        "\n",
        "```\n",
        "calcul_moyenne(\"Mathis\", [14, 17, 12, 13, 16])\n",
        "```\n",
        "\n",
        "\n",
        "\n"
      ]
    },
    {
      "cell_type": "code",
      "metadata": {
        "id": "cRvNwt4aXyMR"
      },
      "source": [
        "# Ecris d'abord la fonction et enregistre-la en exécutant la cellule :\n"
      ],
      "execution_count": null,
      "outputs": []
    },
    {
      "cell_type": "markdown",
      "metadata": {
        "id": "S9FSB9WfQwKc"
      },
      "source": [
        "Maintenant, calcule la moyenne de Nicolas en inventant 5 notes qu'il aurait obtenues en SVT.\n",
        "\n",
        "(note : une fois que la fonction a été créée, tu n'as pas besoin de la ré-écrire ; elle existe dans tout la page, \n",
        "appelé \"notebook\")."
      ]
    },
    {
      "cell_type": "code",
      "metadata": {
        "id": "irNmdsu1R5OI"
      },
      "source": [
        "# Ecris ton code en dessous de cette ligne :\n"
      ],
      "execution_count": null,
      "outputs": []
    },
    {
      "cell_type": "markdown",
      "metadata": {
        "id": "o4E73GruR5j7"
      },
      "source": [
        "Maintenant, tu vas faire évoluer ta fonction : elle devra avoir 3 variables en entrée :\n",
        "\n",
        "*   Le prénom de l'élève\n",
        "*   La liste de 5 notes\n",
        "*   Le nom de la matière\n",
        "\n",
        "Et la fonction devra afficher un résultat comme celui-ci : \n",
        "\n",
        "```\n",
        "\"La moyenne de Pierre-Louis en SVT est 15.\"\n",
        "```\n",
        "\n",
        "A toi de jouer !"
      ]
    },
    {
      "cell_type": "code",
      "metadata": {
        "id": "fjnWx5dXSpzt"
      },
      "source": [
        "# Ecris ton code en dessous de cette ligne :\n"
      ],
      "execution_count": null,
      "outputs": []
    },
    {
      "cell_type": "markdown",
      "metadata": {
        "id": "OJU-imDTch8K"
      },
      "source": [
        "### Les fonctions de calcul dans Python\n",
        "\n",
        "Comme les programmeurs sont des fainéants, ils ont déjà créé plein de fonctions mathématique que l'on peut appeler sans tout coder. Il suffit de les ajouter à la fin d'une liste. Essayons, par exemple, de calculer la note minimale et maximale d'un élève.\n",
        "\n",
        "```\n",
        "notes_SVT_Mathis = [14, 17, 12, 13, 16]\n",
        "\n",
        "print (min(notes_SVT_Mathis))\n",
        "print (max(notes_SVT_Mathis))\n",
        "```"
      ]
    },
    {
      "cell_type": "code",
      "metadata": {
        "id": "qCWZKEmjaTrG"
      },
      "source": [
        "# Ecris ton code en dessous de cette ligne :\n"
      ],
      "execution_count": null,
      "outputs": []
    },
    {
      "cell_type": "markdown",
      "metadata": {
        "id": "YtYIimFlcxYD"
      },
      "source": [
        "### Exercice final 🏆\n",
        "\n",
        "Pour ton exerice final, tu vas devoir créer une fonction qui va utiliser 4 variables d'entrée :\n",
        "\n",
        "\n",
        "*   Le prénom de l'élève\n",
        "*   La liste de 3 notes\n",
        "*   Le nom de la matière\n",
        "*   Le numéro du trimestre\n",
        "\n",
        "La fonction devra afficher un résultat comme ci-dessous :\n",
        "\n",
        "```\n",
        "Résultats de Mathis au trimestre 2 :\n",
        "Moyenne : 15\n",
        "Note minimale : 12\n",
        "Note maximale : 17\n",
        "```\n",
        "\n",
        "Bon courage !\n",
        "(Et si tu n'as pas réussi l'exercice final, la réponse est un peu plus bas !)\n"
      ]
    },
    {
      "cell_type": "code",
      "metadata": {
        "id": "SI1l_hTxQq4Z"
      },
      "source": [
        "# Ecris ton code en dessous de cette ligne :\n"
      ],
      "execution_count": null,
      "outputs": []
    },
    {
      "cell_type": "markdown",
      "metadata": {
        "id": "CTlVFzF3Qrb4"
      },
      "source": [
        "<br>\n",
        "<br>\n",
        "<br>\n",
        "<br>\n",
        "<br>\n",
        "<br>\n",
        "<br>\n",
        "<br>\n",
        "<br>\n",
        "<br>\n",
        "<br>\n",
        "<br>\n",
        "<br>\n",
        "<br>\n",
        "<br>\n",
        "<br>\n",
        "<br>\n",
        "<br>\n",
        "<br>\n",
        "<br>\n",
        "<br>\n",
        "<br>\n",
        "<br>\n",
        "<br>\n",
        "<br>\n",
        "<br>\n",
        "<br>\n",
        "<br>\n",
        "<br>\n",
        "<br>\n",
        "<br>\n",
        "<br>\n",
        "<br>\n",
        "<br>\n"
      ]
    },
    {
      "cell_type": "markdown",
      "metadata": {
        "id": "ZXLrTv9IbyX4"
      },
      "source": [
        "\n",
        "\n",
        "```\n",
        "def calcul_moyenne(prenom, notes, matiere, trimestre):\n",
        "  moyenne = (notes[0] + notes[1] + notes[2])/3\n",
        "  print (\"Résultats de\", prenom, \"au trimestre\", trimestre, \":\")\n",
        "  print (\"Moyenne :\", moyenne)\n",
        "  print (\"Note minimale :\", min(notes))\n",
        "  print (\"Note maximale :\", max(notes))\n",
        "\n",
        "calcul_moyenne(\"Nicolas\", [16, 17, 18], \"Maths\", \"1\")\n",
        "```\n",
        "\n"
      ]
    }
  ]
}